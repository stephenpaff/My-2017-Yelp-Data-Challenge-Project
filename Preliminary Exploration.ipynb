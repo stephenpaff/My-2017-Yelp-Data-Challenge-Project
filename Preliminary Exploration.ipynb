{
 "cells": [
  {
   "cell_type": "markdown",
   "metadata": {},
   "source": [
    "# Preliminary Exploration\n",
    "\n",
    "This is a preliminary exploration into the dataset for the 2017 Yelp Dataset Challenge (https://www.yelp.com/dataset_challenge). Yelp asks its participants use the dataset of local business reviews, business attributes, check-ins, and tips from various cities around the world to help Yelp understand cultural tends in consumer preferences. \n",
    "\n",
    "The goal of this exploration is to analyze initial variables found and determine an action plan for future analysis. Below I will clean up the data into a readable format and then investigate my initial findings and intuitions in order to determine what \n",
    "variables are most significant for analysis. I will use these to formulate next steps in further, more in-depth analysis. \n",
    "\n",
    "There are three parts to my initial exploration:\n",
    "\n",
    "Section 1: **Data Wrangling** - Key Question: How can I extract potentially useful information from the dataset?\n",
    "\n",
    "Section 2: **Data Analysis** - Key Question: What variables are potentially significant and in need of further analysis? \n",
    "\n",
    "Section 3: **Conclusion** - Key Question: What have we learned, and what further steps need to be taken? \n",
    "\n"
   ]
  },
  {
   "cell_type": "markdown",
   "metadata": {},
   "source": [
    "## Section 1 - Data Wrangling\n",
    "\n",
    "In this section, I will clean up and format the data in a way to facilitate analysis. First, I import all the data and create a manageable sample set. Then I will introduce sentiment analysis into the review data for further analysis, and finally I will provide a means to categorize data by categories. "
   ]
  },
  {
   "cell_type": "code",
   "execution_count": 1,
   "metadata": {
    "collapsed": false
   },
   "outputs": [],
   "source": [
    "# Imports\n",
    "import pandas as pd\n",
    "import json\n",
    "from textblob import TextBlob\n",
    "import matplotlib.pyplot as plt\n",
    "import numpy as np\n",
    "import scipy.stats as stats\n",
    "import seaborn as sns\n",
    "\n",
    "from IPython.core.display import HTML\n",
    "css = open('style-table.css').read() + open('style-notebook.css').read()\n",
    "HTML('<style>{}</style>'.format(css))\n",
    "\n",
    "# Alpha will be 0.05 for all tests I will conduct. \n",
    "alpha = 0.05\n",
    "# threshhold_n is the size required for a group to find the results significant. Given the large size of the population, this will be 200. For specific tests later, I will exclude certain groups that have samples smaller than 200 as being too small to provide meaningful data\n",
    "threshhold_n = 100 "
   ]
  },
  {
   "cell_type": "code",
   "execution_count": 2,
   "metadata": {
    "collapsed": true
   },
   "outputs": [],
   "source": [
    "# Because this file does not use checkin_full, tip_full, and user_full in its analysis, so to save data and efficiency, these files are not imported. The import statements are kept as comments for future potential use if that they are needed in later. \n",
    "\n",
    "business_full = pd.DataFrame.from_csv('data\\yelp_academic_dataset_business.csv', index_col=None)\n",
    "#checkin_full = pd.DataFrame.from_csv('data\\yelp_academic_dataset_checkin.csv', index_col=None)\n",
    "review_full = pd.DataFrame.from_csv('data\\yelp_academic_dataset_review.csv', index_col=None)\n",
    "#tip_full = pd.DataFrame.from_csv('data\\yelp_academic_dataset_tip.csv', index_col=None)\n",
    "#user_full = pd.DataFrame.from_csv('data\\yelp_academic_dataset_user.csv', index_col=None)"
   ]
  },
  {
   "cell_type": "markdown",
   "metadata": {},
   "source": [
    "In the cell below, I create a sample of 6000 random businesses. This sample is subset of the original that I can conduct my tests below. review is then stores all reviews for the sampled businesses. "
   ]
  },
  {
   "cell_type": "code",
   "execution_count": 3,
   "metadata": {
    "collapsed": false
   },
   "outputs": [],
   "source": [
    "size = 6000\n",
    "business = business_full.sample(n = size)\n",
    "review = review_full[review_full.business_id.isin(business.business_id) == True]"
   ]
  },
  {
   "cell_type": "code",
   "execution_count": null,
   "metadata": {
    "collapsed": true
   },
   "outputs": [],
   "source": []
  },
  {
   "cell_type": "markdown",
   "metadata": {},
   "source": [
    "### Sentiment Analysis\n",
    "\n",
    "I will be using TextBlob's sentiment analysis to measure how positive or negative a review is. TextBlob.sentiment provides two metrics: polarity and subjectivity. Polarity determines how positive or negative the sentiment on a [-1, 1] scale. Subjectivity measures the us subjective vs factual the language on a [0, 1] scale. \n",
    "\n",
    "Polarity provides an excellent continuous, quantitative variable to express a user's favorability. As such it will be the primary metric I will use to analyze how much a user likes or dislikes a particular business. There are several other quantiative variables that also reflect favorability (such as with the number of stars they rate a business) and interrelated variables like subjectivity. In Section 2, I will discuss in more detail why I intend to use polarity and how it connects with similar variables. In this section, I will simply conduct sentiment analysis on the data and clean it up for further analysis.  \n",
    "\n",
    "In the cell below, I add two columns to the review DataFrame for the polarity and subjectivity of each user's review. This will enable me to analyze polarity and subjectivity in the rest of my exploration. "
   ]
  },
  {
   "cell_type": "code",
   "execution_count": 4,
   "metadata": {
    "collapsed": false
   },
   "outputs": [
    {
     "name": "stderr",
     "output_type": "stream",
     "text": [
      "C:\\ProgramData\\Anaconda3\\lib\\site-packages\\ipykernel\\__main__.py:7: SettingWithCopyWarning: \n",
      "A value is trying to be set on a copy of a slice from a DataFrame.\n",
      "Try using .loc[row_indexer,col_indexer] = value instead\n",
      "\n",
      "See the caveats in the documentation: http://pandas.pydata.org/pandas-docs/stable/indexing.html#indexing-view-versus-copy\n",
      "C:\\ProgramData\\Anaconda3\\lib\\site-packages\\ipykernel\\__main__.py:9: SettingWithCopyWarning: \n",
      "A value is trying to be set on a copy of a slice from a DataFrame.\n",
      "Try using .loc[row_indexer,col_indexer] = value instead\n",
      "\n",
      "See the caveats in the documentation: http://pandas.pydata.org/pandas-docs/stable/indexing.html#indexing-view-versus-copy\n",
      "C:\\ProgramData\\Anaconda3\\lib\\site-packages\\ipykernel\\__main__.py:12: SettingWithCopyWarning: \n",
      "A value is trying to be set on a copy of a slice from a DataFrame.\n",
      "Try using .loc[row_indexer,col_indexer] = value instead\n",
      "\n",
      "See the caveats in the documentation: http://pandas.pydata.org/pandas-docs/stable/indexing.html#indexing-view-versus-copy\n",
      "C:\\ProgramData\\Anaconda3\\lib\\site-packages\\ipykernel\\__main__.py:13: SettingWithCopyWarning: \n",
      "A value is trying to be set on a copy of a slice from a DataFrame.\n",
      "Try using .loc[row_indexer,col_indexer] = value instead\n",
      "\n",
      "See the caveats in the documentation: http://pandas.pydata.org/pandas-docs/stable/indexing.html#indexing-view-versus-copy\n",
      "C:\\ProgramData\\Anaconda3\\lib\\site-packages\\ipykernel\\__main__.py:14: SettingWithCopyWarning: \n",
      "A value is trying to be set on a copy of a slice from a DataFrame.\n",
      "Try using .loc[row_indexer,col_indexer] = value instead\n",
      "\n",
      "See the caveats in the documentation: http://pandas.pydata.org/pandas-docs/stable/indexing.html#indexing-view-versus-copy\n",
      "C:\\ProgramData\\Anaconda3\\lib\\site-packages\\ipykernel\\__main__.py:15: SettingWithCopyWarning: \n",
      "A value is trying to be set on a copy of a slice from a DataFrame.\n",
      "Try using .loc[row_indexer,col_indexer] = value instead\n",
      "\n",
      "See the caveats in the documentation: http://pandas.pydata.org/pandas-docs/stable/indexing.html#indexing-view-versus-copy\n"
     ]
    }
   ],
   "source": [
    "''' \n",
    "TextBlob.sentiment returns the polarity and subjectivity of the given text. \n",
    "To save time running, this conducts the sentiment function on the review as a new column and then stores the subjectivity and polarity as separate columns. It the deletes the now, unneeded sentiment column from the DataFrame. \n",
    "'''\n",
    "\n",
    "sentiment = lambda x: TextBlob(str(x)).sentiment\n",
    "review['sentiment'] = review['text']\n",
    "\n",
    "review['sentiment'] = review['sentiment'].apply(sentiment)\n",
    "polarity = lambda x: x[0]\n",
    "subjectivity = lambda x: x[1]\n",
    "review['polarity'] = review['sentiment']\n",
    "review['polarity'] = review['sentiment'].apply(polarity)\n",
    "review['subjectivity'] = review['sentiment']\n",
    "review['subjectivity'] = review['sentiment'].apply(subjectivity)\n",
    "\n",
    "review = review.drop('sentiment', axis=1) "
   ]
  },
  {
   "cell_type": "code",
   "execution_count": null,
   "metadata": {
    "collapsed": true
   },
   "outputs": [],
   "source": []
  },
  {
   "cell_type": "markdown",
   "metadata": {},
   "source": [
    "### Business Categories\n",
    "\n",
    "The businesss DataFrame provides a column for business categories, in which it lists the business category for a particular business. This is extremely useful information but requires a bit of unpacking. It does not enable me to quickly group all businesses of a certain category or a comprehensive list of all possible business categories. \n",
    "\n",
    "The cell below creates a new DataFramee, called categories, which stores each businesses' categories. Each column is one business category with a 1 value if that business is in that category and 0 if it is not. I also created a master list of all categories for future reference. "
   ]
  },
  {
   "cell_type": "code",
   "execution_count": 5,
   "metadata": {
    "collapsed": false
   },
   "outputs": [
    {
     "data": {
      "text/html": [
       "<div>\n",
       "<table border=\"1\" class=\"dataframe\">\n",
       "  <thead>\n",
       "    <tr style=\"text-align: right;\">\n",
       "      <th></th>\n",
       "      <th>business_id</th>\n",
       "      <th>name</th>\n",
       "      <th>3D Printing</th>\n",
       "      <th>Accessories</th>\n",
       "      <th>Accountants</th>\n",
       "      <th>Active Life</th>\n",
       "      <th>Acupuncture</th>\n",
       "      <th>Adult</th>\n",
       "      <th>Adult Education</th>\n",
       "      <th>Adult Entertainment</th>\n",
       "      <th>...</th>\n",
       "      <th>Windshield Installation &amp; Repair</th>\n",
       "      <th>Wine &amp; Spirits</th>\n",
       "      <th>Wine Bars</th>\n",
       "      <th>Wine Tours</th>\n",
       "      <th>Wineries</th>\n",
       "      <th>Womens Clothing</th>\n",
       "      <th>Wraps</th>\n",
       "      <th>Yelp Events</th>\n",
       "      <th>Yoga</th>\n",
       "      <th>Zoos</th>\n",
       "    </tr>\n",
       "  </thead>\n",
       "  <tbody>\n",
       "    <tr>\n",
       "      <th>62867</th>\n",
       "      <td>ObA-QNMqnv9X9g06zoDP3Q</td>\n",
       "      <td>Powter Puff Boutique</td>\n",
       "      <td>0</td>\n",
       "      <td>0</td>\n",
       "      <td>0</td>\n",
       "      <td>0</td>\n",
       "      <td>0</td>\n",
       "      <td>0</td>\n",
       "      <td>0</td>\n",
       "      <td>0</td>\n",
       "      <td>...</td>\n",
       "      <td>0</td>\n",
       "      <td>0</td>\n",
       "      <td>0</td>\n",
       "      <td>0</td>\n",
       "      <td>0</td>\n",
       "      <td>1</td>\n",
       "      <td>0</td>\n",
       "      <td>0</td>\n",
       "      <td>0</td>\n",
       "      <td>0</td>\n",
       "    </tr>\n",
       "    <tr>\n",
       "      <th>91316</th>\n",
       "      <td>BBzx1h2BDaO2EFi6V1jJew</td>\n",
       "      <td>Walmart</td>\n",
       "      <td>0</td>\n",
       "      <td>0</td>\n",
       "      <td>0</td>\n",
       "      <td>0</td>\n",
       "      <td>0</td>\n",
       "      <td>0</td>\n",
       "      <td>0</td>\n",
       "      <td>0</td>\n",
       "      <td>...</td>\n",
       "      <td>0</td>\n",
       "      <td>0</td>\n",
       "      <td>0</td>\n",
       "      <td>0</td>\n",
       "      <td>0</td>\n",
       "      <td>0</td>\n",
       "      <td>0</td>\n",
       "      <td>0</td>\n",
       "      <td>0</td>\n",
       "      <td>0</td>\n",
       "    </tr>\n",
       "    <tr>\n",
       "      <th>105643</th>\n",
       "      <td>uX2t1KSUlDaGbGmbxdFxpg</td>\n",
       "      <td>Harris Limo</td>\n",
       "      <td>0</td>\n",
       "      <td>0</td>\n",
       "      <td>0</td>\n",
       "      <td>0</td>\n",
       "      <td>0</td>\n",
       "      <td>0</td>\n",
       "      <td>0</td>\n",
       "      <td>0</td>\n",
       "      <td>...</td>\n",
       "      <td>0</td>\n",
       "      <td>0</td>\n",
       "      <td>0</td>\n",
       "      <td>0</td>\n",
       "      <td>0</td>\n",
       "      <td>0</td>\n",
       "      <td>0</td>\n",
       "      <td>0</td>\n",
       "      <td>0</td>\n",
       "      <td>0</td>\n",
       "    </tr>\n",
       "    <tr>\n",
       "      <th>133564</th>\n",
       "      <td>5AL3DYoi5rQ7QJLlQYmFNw</td>\n",
       "      <td>My Car Guy</td>\n",
       "      <td>0</td>\n",
       "      <td>0</td>\n",
       "      <td>0</td>\n",
       "      <td>0</td>\n",
       "      <td>0</td>\n",
       "      <td>0</td>\n",
       "      <td>0</td>\n",
       "      <td>0</td>\n",
       "      <td>...</td>\n",
       "      <td>0</td>\n",
       "      <td>0</td>\n",
       "      <td>0</td>\n",
       "      <td>0</td>\n",
       "      <td>0</td>\n",
       "      <td>0</td>\n",
       "      <td>0</td>\n",
       "      <td>0</td>\n",
       "      <td>0</td>\n",
       "      <td>0</td>\n",
       "    </tr>\n",
       "    <tr>\n",
       "      <th>103394</th>\n",
       "      <td>oLbHJ_qJh78Kw4fhUw1HGg</td>\n",
       "      <td>Mandarin Express</td>\n",
       "      <td>0</td>\n",
       "      <td>0</td>\n",
       "      <td>0</td>\n",
       "      <td>0</td>\n",
       "      <td>0</td>\n",
       "      <td>0</td>\n",
       "      <td>0</td>\n",
       "      <td>0</td>\n",
       "      <td>...</td>\n",
       "      <td>0</td>\n",
       "      <td>0</td>\n",
       "      <td>0</td>\n",
       "      <td>0</td>\n",
       "      <td>0</td>\n",
       "      <td>0</td>\n",
       "      <td>0</td>\n",
       "      <td>0</td>\n",
       "      <td>0</td>\n",
       "      <td>0</td>\n",
       "    </tr>\n",
       "  </tbody>\n",
       "</table>\n",
       "<p>5 rows × 797 columns</p>\n",
       "</div>"
      ],
      "text/plain": [
       "                   business_id                  name  3D Printing  \\\n",
       "62867   ObA-QNMqnv9X9g06zoDP3Q  Powter Puff Boutique            0   \n",
       "91316   BBzx1h2BDaO2EFi6V1jJew               Walmart            0   \n",
       "105643  uX2t1KSUlDaGbGmbxdFxpg           Harris Limo            0   \n",
       "133564  5AL3DYoi5rQ7QJLlQYmFNw            My Car Guy            0   \n",
       "103394  oLbHJ_qJh78Kw4fhUw1HGg      Mandarin Express            0   \n",
       "\n",
       "        Accessories  Accountants  Active Life  Acupuncture  Adult  \\\n",
       "62867             0            0            0            0      0   \n",
       "91316             0            0            0            0      0   \n",
       "105643            0            0            0            0      0   \n",
       "133564            0            0            0            0      0   \n",
       "103394            0            0            0            0      0   \n",
       "\n",
       "        Adult Education  Adult Entertainment  ...   \\\n",
       "62867                 0                    0  ...    \n",
       "91316                 0                    0  ...    \n",
       "105643                0                    0  ...    \n",
       "133564                0                    0  ...    \n",
       "103394                0                    0  ...    \n",
       "\n",
       "        Windshield Installation & Repair  Wine & Spirits  Wine Bars  \\\n",
       "62867                                  0               0          0   \n",
       "91316                                  0               0          0   \n",
       "105643                                 0               0          0   \n",
       "133564                                 0               0          0   \n",
       "103394                                 0               0          0   \n",
       "\n",
       "        Wine Tours  Wineries  Womens Clothing  Wraps  Yelp Events  Yoga  Zoos  \n",
       "62867            0         0                1      0            0     0     0  \n",
       "91316            0         0                0      0            0     0     0  \n",
       "105643           0         0                0      0            0     0     0  \n",
       "133564           0         0                0      0            0     0     0  \n",
       "103394           0         0                0      0            0     0     0  \n",
       "\n",
       "[5 rows x 797 columns]"
      ]
     },
     "execution_count": 5,
     "metadata": {},
     "output_type": "execute_result"
    }
   ],
   "source": [
    "# Creates a new DataFrame, called categories, which stores each businessses' categories\n",
    "categories = business.categories.str.replace('\"', \"'\").str.replace(\"'\", '').str.strip('[]').str.get_dummies(\", \")\n",
    "categories.insert(0, 'business_id', business['business_id'])\n",
    "categories.insert(1, 'name', business['name'])\n",
    "\n",
    "# categories_master_list is the list of all potential business categories. \n",
    "categories_master_list = categories.columns[2:]\n",
    "\n",
    "categories.head()"
   ]
  },
  {
   "cell_type": "code",
   "execution_count": null,
   "metadata": {
    "collapsed": false
   },
   "outputs": [],
   "source": []
  },
  {
   "cell_type": "markdown",
   "metadata": {},
   "source": [
    "# Section 2 - Data Analysis\n",
    "\n",
    "In this section, I will analyze potentially significant variables. The goal is to determine which variables may be important to analyze for results later. I will analyze four potentially significant variables: \n",
    "\n",
    "1) Sentiment polarity \n",
    "\n",
    "2) Business category\n",
    "\n",
    "3) Location\n",
    "\n",
    "4) Time of year. \n",
    "\n",
    "For the first variable, I will demonstrate potential relationships between polarity and other similar variables, explain why I think polarity is the best metric to express the users' stated feeling about a business, and discuss how to combine it with other variables in my analysis.\n",
    "\n",
    "Then I will survey location and time of year to determine how likely they are to influence favorabiity results. My findings are that location likely influences polarity but time of year likely does not. Future analysis will be needed to better understand how location is an influence."
   ]
  },
  {
   "cell_type": "markdown",
   "metadata": {},
   "source": [
    "## Sentiment Polarity\n",
    "\n",
    "TextBlob's sentiment polarity metric is intended to measure how positive or negative a text is. It rates each text on a scale from -1 (completely negative) to 1 (completely positive). In Section 1, I established the polarity of each review. I will use polarity as the primary metric to analyze a user's favorability towards a business. Star rating (a choice to give a business between 1 to 5 stars) is the other potential metric available in this data. There are three initial reasons I think polarity is the best metric: \n",
    "\n",
    "1) Polarity analyzes the users' stated opinions in the review instead of simply indicating their stated opinions. Thus, it can better analyze the positive and negative aspects of a complex review. \n",
    "\n",
    "2) Polarity is quantitative and continuous allowing for richer analysis. \n",
    "\n",
    "3) The categorical nature of a 5-scale star rating creates ambiguity and does not allow as rich an analysis. \n",
    "\n",
    "More details on these points are provided in the \"Polarity vs Star Rating\" Section. "
   ]
  },
  {
   "cell_type": "markdown",
   "metadata": {},
   "source": [
    "### Polarity vs Subjectivity \n",
    "\n",
    "First, I wanted to analyze whether there are connections between polarity (how favorable a user's opinion was reflected in a review) vs subjectivity (how opinion-oriented or factual was there language style). I wanted to determine whether there is a connection between favorability and the style of language used and to assess whether I could consider polarity and subjectivity as indepedent variables. \n",
    "\n",
    "I first created a scatter plot of the two to analyze any connections between polarity and subjectivity. Then I conducted a statistical test to test for indepedence between them. "
   ]
  },
  {
   "cell_type": "code",
   "execution_count": 6,
   "metadata": {
    "collapsed": false
   },
   "outputs": [
    {
     "name": "stderr",
     "output_type": "stream",
     "text": [
      "C:\\ProgramData\\Anaconda3\\lib\\site-packages\\statsmodels\\nonparametric\\kdetools.py:20: VisibleDeprecationWarning: using a non-integer number instead of an integer will result in an error in the future\n",
      "  y = X[:m/2+1] + np.r_[0,X[m/2+1:],0]*1j\n"
     ]
    },
    {
     "data": {
      "image/png": "[encoded data removed]",
      "text/plain": [
       "<matplotlib.figure.Figure at 0x2125dc41518>"
      ]
     },
     "metadata": {},
     "output_type": "display_data"
    },
    {
     "name": "stdout",
     "output_type": "stream",
     "text": [
      "Null Hypothesis: Polarity and subjectivity of reviews are independent.\n",
      "Alternative Hypothesis: Polarity and subjectivity are correlated.\n",
      " \n",
      "Slope: 0.193705421904\n",
      "Intercept: 0.510847603302\n",
      "p: 0.0\n",
      "Correlation Coefficient: 0.319099287006\n",
      "Standard Error: 0.00136960582523\n",
      " \n",
      "Reject the null\n"
     ]
    }
   ],
   "source": [
    "# Creates a scatter plot of polarity and subjectivity\n",
    "sns.jointplot(y=\"subjectivity\", x=\"polarity\", data=review, kind=\"kde\",  fit_reg = True, xlim={-0.25, 0.5}, ylim = {0.3, 0.8})\n",
    "sns.plt.show()\n",
    "\n",
    "# Conducts a hypothesis test to determine likeliness or unlikeliness of independence between polarity and subjectivity. \n",
    "# Creates a regression test on polarity and subjectivity. This will calculate three things of significance for this project: linear regression equation, probability of a relationship (value), and correlation coefficient. \n",
    "print(\"Null Hypothesis: Polarity and subjectivity of reviews are independent.\")\n",
    "print(\"Alternative Hypothesis: Polarity and subjectivity are correlated.\")\n",
    "print(\" \")\n",
    "\n",
    "slope, intercept, r_value, p_value, std_err = stats.linregress(review.polarity, review.subjectivity)\n",
    "slope, intercept, r_value, p_value, std_err\n",
    "\n",
    "print(\"Slope: \" + str(slope))\n",
    "print(\"Intercept: \" + str(intercept))\n",
    "print(\"p: \" + str(p_value))\n",
    "print(\"Correlation Coefficient: \" + str(r_value))\n",
    "print(\"Standard Error: \" + str(std_err))\n",
    "print(\" \")\n",
    "\n",
    "if(p_value < alpha): \n",
    "    print(\"Reject the null\")\n",
    "else: \n",
    "    print(\"Fail to reject the null\")"
   ]
  },
  {
   "cell_type": "markdown",
   "metadata": {},
   "source": [
    "In conclusion, they are not independent of each other. This may not seem surprising considering either the fact that one's favorability infuences the style of language use and the connections in TextBlob's algorithm for calculating both. "
   ]
  },
  {
   "cell_type": "code",
   "execution_count": null,
   "metadata": {
    "collapsed": true
   },
   "outputs": [],
   "source": []
  },
  {
   "cell_type": "markdown",
   "metadata": {
    "collapsed": true
   },
   "source": [
    "### Polarity vs Star Rating\n",
    "\n",
    "Here I compare polarity with the star rating. \n",
    "\n",
    "For the star rating, users rated the business between 1 to 5 stars. I do not intend to use star rating as a primary metric for analyzing user favorability. As a categorical variable based on stated opinions, its rating system creates ambiguity. I would prefer a scale with positive and negative values to reflect a favorable and unfavorable consumer opinion respectively. Currently the 1 to 5 scale does not allow that. Bad reviews are simply less positive than good reviews. That could be easily changed by altering the scale by subtracting by 3: 1 star goes to -2, 2 stars to -1, 3 stars to 0, 4 stars to 1, and 5 stars to 2. \n",
    "\n",
    "\n",
    "Presumably, a 4 or 5 star rating is intended to reflect a positive experience from the user and 1 or 2 stars a negative experience as implied in the modified scale. Would every user have this system in mind when they relate, though? Does a rating of 3 always reflect a truly neutral view for all users? I would suspect the answer to be no: different users would have different internal scales and meanings for each number of stars. \n",
    "\n",
    "Using the star rating to measure favorability would create too much ambiguity in the analysis based on these issues. At the same time, its discrete, categorical nature, despite being numerical, provide less flexibility in analysis than the continuous polarity. \n",
    "\n",
    "Below, I determine whether there is a statistical relationship between polarity and star rating. I would expect there to be. Even if star rating is not the best metric for favorability, it certainly reflects favorability pretty accurately. Establishing the statistical the connection between polarity and star rating helps ensure that polarity is an accurate metric for favorability. \n",
    "\n",
    "I created a scatter plot for polarity and star rating to show the general relationship. I then found the line of best fit and conducted a correlation test to determine whether they are correlated."
   ]
  },
  {
   "cell_type": "code",
   "execution_count": 7,
   "metadata": {
    "collapsed": false
   },
   "outputs": [
    {
     "data": {
      "image/png": "[encoded data removed]",
      "text/plain": [
       "<matplotlib.figure.Figure at 0x212ac902eb8>"
      ]
     },
     "metadata": {},
     "output_type": "display_data"
    },
    {
     "name": "stdout",
     "output_type": "stream",
     "text": [
      "Null Hypothesis: Polarity and star rating are independent.\n",
      "Alternative Hypothesis: Polarity and star rating are correlated.\n",
      " \n",
      "Slope: 3.71696553588\n",
      "Intercept: 2.86536189418\n",
      "p: 0.0\n",
      "Correlation Coefficient: 0.592678164721\n",
      "Standard Error: 0.0120254539589\n",
      " \n",
      "Reject the null\n"
     ]
    }
   ],
   "source": [
    "sns.regplot(y=\"stars\", x=\"polarity\", data=review, fit_reg = True)\n",
    "sns.plt.show()\n",
    "\n",
    "print(\"Null Hypothesis: Polarity and star rating are independent.\")\n",
    "print(\"Alternative Hypothesis: Polarity and star rating are correlated.\")\n",
    "print(\" \")\n",
    "\n",
    "slope, intercept, r_value, p_value, std_err = stats.linregress(review.polarity, review.stars)\n",
    "slope, intercept, r_value, p_value, std_err\n",
    "\n",
    "print(\"Slope: \" + str(slope))\n",
    "print(\"Intercept: \" + str(intercept))\n",
    "print(\"p: \" + str(p_value))\n",
    "print(\"Correlation Coefficient: \" + str(r_value))\n",
    "print(\"Standard Error: \" + str(std_err))\n",
    "print(\" \")\n",
    "\n",
    "if(p_value < alpha): \n",
    "    print(\"Reject the null\")\n",
    "else: \n",
    "    print(\"Fail to reject the null\")"
   ]
  },
  {
   "cell_type": "markdown",
   "metadata": {},
   "source": [
    "This is an extremely small p-value, leading to the conclusion that star rating and polarity are pretty connected. This helps confirm that both accurately represent user favorability. As described above, I prefer polarity as a metric for favorability, and this helps demonstrates the accuracy of using polarity. \n",
    "\n",
    "Further, I wanted to analyze the each star rating individually with polarity. As discussed above, I am skeptical of variations meanings on different star values for each user. For example, one could think that a rating of 3, being in the middle of the 1 through 5 scale, would mean a neutral, not favorable but not disfavorable impression by the user. Many people could think of vastly different scalings, however, with different intended meanings for a 3 star review. \n",
    "\n",
    "Below, I calculated the mean and standard deviation of polarity for each star rating value. That way, I can know whether star rating can accurately measure favorability. I would expect a 1-star rating to have a mean polarity close to -1 and a 5-star rating a mean polarity close to 1, indicating a strong negative and positive sentiment respectively. I would expect a 2-star rating and a 4-star rating to be slightly more moderate around -0.5 and 0.5 respectively. Finally, I would expect a 3-star rating to have a mean around 0 to reflect a neutral preference. "
   ]
  },
  {
   "cell_type": "code",
   "execution_count": 8,
   "metadata": {
    "collapsed": false
   },
   "outputs": [
    {
     "data": {
      "text/html": [
       "<div>\n",
       "<table border=\"1\" class=\"dataframe\">\n",
       "  <thead>\n",
       "    <tr style=\"text-align: right;\">\n",
       "      <th></th>\n",
       "      <th>Mean Polarity</th>\n",
       "      <th>St. Dev</th>\n",
       "    </tr>\n",
       "    <tr>\n",
       "      <th>stars</th>\n",
       "      <th></th>\n",
       "      <th></th>\n",
       "    </tr>\n",
       "  </thead>\n",
       "  <tbody>\n",
       "    <tr>\n",
       "      <th>1</th>\n",
       "      <td>-0.037144</td>\n",
       "      <td>0.204590</td>\n",
       "    </tr>\n",
       "    <tr>\n",
       "      <th>2</th>\n",
       "      <td>0.075655</td>\n",
       "      <td>0.164877</td>\n",
       "    </tr>\n",
       "    <tr>\n",
       "      <th>3</th>\n",
       "      <td>0.180417</td>\n",
       "      <td>0.154689</td>\n",
       "    </tr>\n",
       "    <tr>\n",
       "      <th>4</th>\n",
       "      <td>0.273167</td>\n",
       "      <td>0.168556</td>\n",
       "    </tr>\n",
       "    <tr>\n",
       "      <th>5</th>\n",
       "      <td>0.347910</td>\n",
       "      <td>0.185125</td>\n",
       "    </tr>\n",
       "  </tbody>\n",
       "</table>\n",
       "</div>"
      ],
      "text/plain": [
       "       Mean Polarity   St. Dev\n",
       "stars                         \n",
       "1          -0.037144  0.204590\n",
       "2           0.075655  0.164877\n",
       "3           0.180417  0.154689\n",
       "4           0.273167  0.168556\n",
       "5           0.347910  0.185125"
      ]
     },
     "execution_count": 8,
     "metadata": {},
     "output_type": "execute_result"
    }
   ],
   "source": [
    "# Finds the mean and standard deviation of each star rating \n",
    "mean_polarity_by_stars = review[['polarity', 'stars']].groupby('stars').mean()\n",
    "mean_polarity_by_stars.columns = ['Mean Polarity']\n",
    "mean_polarity_by_stars['St. Dev'] = review[['polarity', 'stars']].groupby('stars').std()\n",
    "mean_polarity_by_stars"
   ]
  },
  {
   "cell_type": "markdown",
   "metadata": {
    "collapsed": true
   },
   "source": [
    "In the graph, one can see a large amount of potential variation in polarity for each star rating. That width seems to increase as the star rating increases, potentially indicating the type of ambiguity in personal rating styles described above. \n",
    "\n",
    "The means polarity does seem to increase as the star rating increases, as expected. It does not do so anywhere near the initially expected scale. This could both indicate fluxations in individual user's criteria when assigning stars and could also indicate more stringent and slightly positive skew in polarity. \n",
    "\n",
    "In conclusion, polarity and star rating are clearly correlated. There is variation between the two: as star rating increases, so does the polarity, but polarity does so at a more subtle rate. I will primarily use polarity as a measure for favorability but will use star rating as a secondary metric. "
   ]
  },
  {
   "cell_type": "code",
   "execution_count": null,
   "metadata": {
    "collapsed": true
   },
   "outputs": [],
   "source": []
  },
  {
   "cell_type": "markdown",
   "metadata": {},
   "source": [
    "## Business Categories \n",
    "\n",
    "I am interested in whether certain business categories may influence people's favorability. Are certain types of businesses inherently more popular and others less so? To analyze this, I then grouped each business by category to find the average polarity and subjectivity for each business category. I then graphed these in a scatter plots similar to above so that one can see any relationship or variation in these variables across category and decipher the existence of any outliers.  "
   ]
  },
  {
   "cell_type": "code",
   "execution_count": 10,
   "metadata": {
    "collapsed": false
   },
   "outputs": [
    {
     "data": {
      "image/png": "[encoded data removed]",
      "text/plain": [
       "<matplotlib.figure.Figure at 0x2125b4f09e8>"
      ]
     },
     "metadata": {},
     "output_type": "display_data"
    }
   ],
   "source": [
    "# Makes a scatter plot for each business category by average polarity and subjectivity by business category\n",
    "\n",
    "mean_by_business = review.groupby('business_id').mean()\n",
    "\n",
    "mean_sentiment_by_categories = categories.merge(mean_by_business[['polarity', 'subjectivity', 'stars']], right_index = True, left_on = categories.business_id)\n",
    "\n",
    "polarity_averages = []\n",
    "subjectivity_averages = []\n",
    "stars_averages = [] \n",
    "\n",
    "for category in categories_master_list: \n",
    "    polarity_averages.append(mean_sentiment_by_categories[mean_sentiment_by_categories[category] == 1].mean()['polarity'])\n",
    "    subjectivity_averages.append(mean_sentiment_by_categories[mean_sentiment_by_categories[category] == 1].mean()['subjectivity'])\n",
    "    stars_averages.append(mean_sentiment_by_categories[mean_sentiment_by_categories[category] == 1].mean()['stars'])\n",
    "    \n",
    "categories_sentiment = pd.DataFrame({'Business Categories': categories_master_list, 'Mean Polarity': polarity_averages, 'Mean Subjectivity': subjectivity_averages, 'Mean Star Rating': stars_averages})\n",
    "\n",
    "sns.regplot(y=\"Mean Subjectivity\", x=\"Mean Polarity\", data=categories_sentiment)\n",
    "sns.plt.show()"
   ]
  },
  {
   "cell_type": "markdown",
   "metadata": {},
   "source": [
    "There is clear clumping for various business categories in both graphs. Because of the sheer magnitude of business categories, understanding trends in each individual category would be tedious and not worth the effort. Several outliers exist, which warrant further analysis. In later analyses, I will focus on certain types of businesses (such as restaurants) and thus analyze the business categories within that general macro-category (such as fast food, style of restaurant, etc.). Comparing every business category with each other, other than through these two cursory graphs, is not necessarily helpful given wide range of types. For example, what would a fast food chain have in common with a beauty parlor or an amusement park? "
   ]
  },
  {
   "cell_type": "code",
   "execution_count": null,
   "metadata": {
    "collapsed": true
   },
   "outputs": [],
   "source": []
  },
  {
   "cell_type": "markdown",
   "metadata": {},
   "source": [
    "## Location \n",
    "\n",
    "To what extent does location people's measured favorability? Are people in certain areas either generally more likely to positively review and rate businesses and more critical in others? Cultural factors could influence either general population preferences or users' willingness to publically express their praise or criticism. \n",
    "\n",
    "Below I assess whether location may be a confounding variable for favorability. This is an initial exploration into how location may influence users stated experiences with the immediate goal of assessing whether location is a likely intermediary variable. Using the mean polarity of each business, I grouped the businesses by U.S. states and districts internationally to see whether there was a significant variation in polarity across different states. Later, I will use cluster analysis to create a fuller account of the influence of location in businesses. \n"
   ]
  },
  {
   "cell_type": "code",
   "execution_count": 11,
   "metadata": {
    "collapsed": false
   },
   "outputs": [
    {
     "data": {
      "image/png": "[encoded data removed]",
      "text/plain": [
       "<matplotlib.figure.Figure at 0x2125b4f87b8>"
      ]
     },
     "metadata": {},
     "output_type": "display_data"
    }
   ],
   "source": [
    "# Graphs the mean polarity by state. Only includes in the graph, states with at least 200 people \n",
    "\n",
    "threshhold_n = 100 \n",
    "\n",
    "sentiment_by_location = review[['business_id', 'polarity', 'subjectivity']].merge(business[['business_id', 'city', 'state', 'latitude', 'longitude']])\n",
    "\n",
    "mean_sentiment_by_state = sentiment_by_location.groupby('state').mean()\n",
    "mean_sentiment_by_state['n'] = business['state'].value_counts()\n",
    "\n",
    "sns.barplot(y=mean_sentiment_by_state[ mean_sentiment_by_state['n'] >= threshhold_n ].polarity, x=mean_sentiment_by_state[ mean_sentiment_by_state['n'] >= threshhold_n ].index)\n",
    "sns.plt.show()"
   ]
  },
  {
   "cell_type": "markdown",
   "metadata": {},
   "source": [
    "I now performed an f-test to confirm whether state has an influence on polarity. To maintain the requirements of an F-test, I only sampled states with comparitively large number of businesses (at least 500). "
   ]
  },
  {
   "cell_type": "code",
   "execution_count": 12,
   "metadata": {
    "collapsed": false
   },
   "outputs": [
    {
     "name": "stdout",
     "output_type": "stream",
     "text": [
      "Null Hypothesis: All states would have (roughly) the same mean polarity in the sample population.\n",
      " \n",
      "Alternative Hypothesis: One or more states has a different mean polarity population.\n",
      " \n",
      "F = 42.6245653722\n",
      "p = 3.10526574261e-85\n",
      "Reject the null\n"
     ]
    }
   ],
   "source": [
    "# Conducts an F-test to determine whether state influences polarity. \n",
    "\n",
    "print('Null Hypothesis: All states would have (roughly) the same mean polarity in the sample population.')\n",
    "print(' ')\n",
    "print('Alternative Hypothesis: One or more states has a different mean polarity population.')\n",
    "print(' ')\n",
    "\n",
    "# Creates subcategory for each state that is sufficiently large. \n",
    "AZ = sentiment_by_location[sentiment_by_location['state'] == 'AZ']['polarity']\n",
    "NV = sentiment_by_location[sentiment_by_location['state'] == 'NV']['polarity']\n",
    "ON = sentiment_by_location[sentiment_by_location['state'] == 'ON']['polarity']\n",
    "NC = sentiment_by_location[sentiment_by_location['state'] == 'NC']['polarity']\n",
    "OH = sentiment_by_location[sentiment_by_location['state'] == 'OH']['polarity']\n",
    "PA = sentiment_by_location[sentiment_by_location['state'] == 'PA']['polarity']\n",
    "QC = sentiment_by_location[sentiment_by_location['state'] == 'QC']['polarity']\n",
    "WI = sentiment_by_location[sentiment_by_location['state'] == 'WI']['polarity']\n",
    "EDH = sentiment_by_location[sentiment_by_location['state'] == 'EDH']['polarity']\n",
    "BW = sentiment_by_location[sentiment_by_location['state'] == 'BW']['polarity']\n",
    "IL = sentiment_by_location[sentiment_by_location['state'] == 'IL']['polarity']\n",
    "SC = sentiment_by_location[sentiment_by_location['state'] == 'SC']['polarity']\n",
    "\n",
    "f,p = stats.f_oneway(AZ, NV, ON, NC, OH, PA, QC, WI, EDH, BW, IL)\n",
    "\n",
    "print(\"F = \" + str(f))\n",
    "print('p = ' + str(p))\n",
    "\n",
    "if(p_value < alpha): \n",
    "    print(\"Reject the null\")\n",
    "else: \n",
    "    print(\"Fail to reject the null\")"
   ]
  },
  {
   "cell_type": "markdown",
   "metadata": {
    "collapsed": true
   },
   "source": [
    "We can safely conclude that state (and thus location) likely influences polarity. I will use cluster analysis later to further analyze connections between locations and business populatarity among stores in the same locality. "
   ]
  },
  {
   "cell_type": "code",
   "execution_count": null,
   "metadata": {
    "collapsed": true
   },
   "outputs": [],
   "source": []
  },
  {
   "cell_type": "markdown",
   "metadata": {
    "collapsed": true
   },
   "source": [
    "## Time of Year\n",
    "\n",
    "Does favorability change over the course over the course of the year? During certain months of the year, are people more likely to appreciate a business and less likey to apprecriate during others? Seasonal differences can clearly influence people's mood and general disposition.\n",
    "\n",
    "Below I assess whether the time of year may be a confounding variable for favorability. This is an initial exploration into possible influences conducted in order to determine whether month is a likely intermediary variable. I grouped each review by the month it was written and found the mean polarity for each month. "
   ]
  },
  {
   "cell_type": "code",
   "execution_count": 13,
   "metadata": {
    "collapsed": false
   },
   "outputs": [
    {
     "data": {
      "image/png": "[encoded data removed]",
      "text/plain": [
       "<matplotlib.figure.Figure at 0x2126b302f28>"
      ]
     },
     "metadata": {},
     "output_type": "display_data"
    }
   ],
   "source": [
    "# Graphs the mean polarity by month. Only includes in the graph, states with at least 200 people \n",
    "\n",
    "review['month'] = pd.to_numeric(review.date.str.slice(5, 7))\n",
    "\n",
    "mean_sentiment_by_month = review.groupby('month').mean()\n",
    "mean_sentiment_by_month['n'] = review['month'].value_counts()\n",
    "\n",
    "\n",
    "sns.barplot(y=mean_sentiment_by_month[ mean_sentiment_by_month['n'] >= threshhold_n ].polarity, x=mean_sentiment_by_month[ mean_sentiment_by_month['n'] >= threshhold_n ].index)\n",
    "sns.plt.show()"
   ]
  },
  {
   "cell_type": "markdown",
   "metadata": {
    "collapsed": true
   },
   "source": [
    "I now performed an F-test to confirm whether month has an influence on polarity: "
   ]
  },
  {
   "cell_type": "code",
   "execution_count": 15,
   "metadata": {
    "collapsed": false
   },
   "outputs": [
    {
     "name": "stdout",
     "output_type": "stream",
     "text": [
      "Null Hypothesis: All months would have (roughly) the same mean polarity in the sample population.\n",
      " \n",
      "Alternative Hypothesis: One or more months has a different mean polarity population.\n",
      " \n",
      "F = 1.55967245127\n",
      "p = 0.103345068782\n",
      "Fail to reject the null\n"
     ]
    }
   ],
   "source": [
    "# Conducts an F-test to determine whether month influences polarity. \n",
    "\n",
    "print('Null Hypothesis: All months would have (roughly) the same mean polarity in the sample population.')\n",
    "print(' ')\n",
    "print('Alternative Hypothesis: One or more months has a different mean polarity population.')\n",
    "print(' ')\n",
    "\n",
    "# Creates subcategory for each larger month. \n",
    "m1 = review[review['month'] == 1]['polarity']\n",
    "m2 = review[review['month'] == 2]['polarity']\n",
    "m3 = review[review['month'] == 3]['polarity']\n",
    "m4 = review[review['month'] == 4]['polarity']\n",
    "m5 = review[review['month'] == 5]['polarity']\n",
    "m6 = review[review['month'] == 6]['polarity']\n",
    "m7 = review[review['month'] == 7]['polarity']\n",
    "m8 = review[review['month'] == 8]['polarity']\n",
    "m9 = review[review['month'] == 9]['polarity']\n",
    "m10 = review[review['month'] == 10]['polarity']\n",
    "m11 = review[review['month'] == 11]['polarity']\n",
    "m12 = review[review['month'] == 12]['polarity']\n",
    "\n",
    "\n",
    "f,p_value = stats.f_oneway(m1, m2, m3, m4, m5, m6, m7, m8, m9, m10, m11, m12)\n",
    "\n",
    "print(\"F = \" + str(f))\n",
    "print('p = ' + str(p_value))\n",
    "\n",
    "if(p_value < alpha): \n",
    "    print(\"Reject the null\")\n",
    "else: \n",
    "    print(\"Fail to reject the null\")"
   ]
  },
  {
   "cell_type": "markdown",
   "metadata": {
    "collapsed": true
   },
   "source": [
    "The p-value is not that small, which means it is not likely that the month influences polarity. "
   ]
  },
  {
   "cell_type": "code",
   "execution_count": null,
   "metadata": {
    "collapsed": true
   },
   "outputs": [],
   "source": []
  },
  {
   "cell_type": "markdown",
   "metadata": {},
   "source": [
    "# Conclusion \n",
    "\n",
    "I have cleaned up the data, demonstrated why I intend to use polarity to analyze user favorabiity, and analyzed potential influencing variables. Subjectivity, which connects to the concept of polarity, and star rating, which also measures user preferences are clearly statistically related to polarity. Location (or at least state) is probably not related to polarity, but time of year likely is not. \n",
    "\n",
    "Next steps: \n",
    "\n",
    "1) Conduct cluster on how businesses and user favorability to group businesses based on common users\n",
    "\n",
    "2) Analyze outliers in among favorability of certain types of businesses\n",
    "\n",
    "3) Conduct cluser analysis on business locations to find localities and characterize potential local features "
   ]
  },
  {
   "cell_type": "code",
   "execution_count": null,
   "metadata": {
    "collapsed": true
   },
   "outputs": [],
   "source": []
  }
 ],
 "metadata": {
  "kernelspec": {
   "display_name": "Python 3",
   "language": "python",
   "name": "python3"
  },
  "language_info": {
   "codemirror_mode": {
    "name": "ipython",
    "version": 3
   },
   "file_extension": ".py",
   "mimetype": "text/x-python",
   "name": "python",
   "nbconvert_exporter": "python",
   "pygments_lexer": "ipython3",
   "version": "3.6.0"
  }
 },
 "nbformat": 4,
 "nbformat_minor": 2
}
